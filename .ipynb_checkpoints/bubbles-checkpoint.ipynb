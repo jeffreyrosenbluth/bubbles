{
 "cells": [
  {
   "cell_type": "code",
   "execution_count": 1,
   "id": "008c24d6-8784-495a-85fa-6bb09e3c860d",
   "metadata": {},
   "outputs": [],
   "source": [
    "%load_ext autoreload\n",
    "%autoreload 2\n",
    "\n",
    "import polars as pl\n",
    "from bubbles.agents import *\n",
    "from bubbles.dz import dz"
   ]
  },
  {
   "cell_type": "code",
   "execution_count": 5,
   "id": "0c08ce50-cd56-4a3c-90b4-4a5b54511851",
   "metadata": {},
   "outputs": [
    {
     "data": {
      "text/html": [
       "<div><style>\n",
       ".dataframe > thead > tr,\n",
       ".dataframe > tbody > tr {\n",
       "  text-align: right;\n",
       "  white-space: pre-wrap;\n",
       "}\n",
       "</style>\n",
       "<small>shape: (661, 16)</small><table border=\"1\" class=\"dataframe\"><thead><tr><th>annualized_earnings</th><th>monthly_earnings</th><th>return_idx</th><th>price_idx</th><th>total_cash</th><th>expected_return_y</th><th>expected_return_x</th><th>n_year_annualized_return</th><th>wealth_x</th><th>wealth_y</th><th>equity_x</th><th>equity_y</th><th>cash_x</th><th>cash_y</th><th>cash_post_distribution_x</th><th>cash_post_distribution_y</th></tr><tr><td>f64</td><td>f64</td><td>f64</td><td>f64</td><td>f64</td><td>f64</td><td>f64</td><td>f64</td><td>f64</td><td>f64</td><td>f64</td><td>f64</td><td>f64</td><td>f64</td><td>f64</td><td>f64</td></tr></thead><tbody><tr><td>NaN</td><td>NaN</td><td>1.0</td><td>1.0</td><td>NaN</td><td>NaN</td><td>NaN</td><td>NaN</td><td>NaN</td><td>NaN</td><td>NaN</td><td>NaN</td><td>NaN</td><td>NaN</td><td>NaN</td><td>NaN</td></tr><tr><td>0.04</td><td>0.003274</td><td>1.003274</td><td>1.001637</td><td>NaN</td><td>NaN</td><td>NaN</td><td>NaN</td><td>NaN</td><td>NaN</td><td>NaN</td><td>NaN</td><td>NaN</td><td>NaN</td><td>NaN</td><td>NaN</td></tr><tr><td>0.040065</td><td>0.003279</td><td>1.006558</td><td>1.003276</td><td>NaN</td><td>NaN</td><td>NaN</td><td>NaN</td><td>NaN</td><td>NaN</td><td>NaN</td><td>NaN</td><td>NaN</td><td>NaN</td><td>NaN</td><td>NaN</td></tr><tr><td>0.040131</td><td>0.003284</td><td>1.009853</td><td>1.004919</td><td>NaN</td><td>NaN</td><td>NaN</td><td>NaN</td><td>NaN</td><td>NaN</td><td>NaN</td><td>NaN</td><td>NaN</td><td>NaN</td><td>NaN</td><td>NaN</td></tr><tr><td>0.040196</td><td>0.00329</td><td>1.013159</td><td>1.006564</td><td>NaN</td><td>NaN</td><td>NaN</td><td>NaN</td><td>NaN</td><td>NaN</td><td>NaN</td><td>NaN</td><td>NaN</td><td>NaN</td><td>NaN</td><td>NaN</td></tr><tr><td>&hellip;</td><td>&hellip;</td><td>&hellip;</td><td>&hellip;</td><td>&hellip;</td><td>&hellip;</td><td>&hellip;</td><td>&hellip;</td><td>&hellip;</td><td>&hellip;</td><td>&hellip;</td><td>&hellip;</td><td>&hellip;</td><td>&hellip;</td><td>&hellip;</td><td>&hellip;</td></tr><tr><td>NaN</td><td>NaN</td><td>NaN</td><td>NaN</td><td>NaN</td><td>NaN</td><td>NaN</td><td>NaN</td><td>NaN</td><td>NaN</td><td>NaN</td><td>NaN</td><td>NaN</td><td>NaN</td><td>NaN</td><td>NaN</td></tr><tr><td>NaN</td><td>NaN</td><td>NaN</td><td>NaN</td><td>NaN</td><td>NaN</td><td>NaN</td><td>NaN</td><td>NaN</td><td>NaN</td><td>NaN</td><td>NaN</td><td>NaN</td><td>NaN</td><td>NaN</td><td>NaN</td></tr><tr><td>NaN</td><td>NaN</td><td>NaN</td><td>NaN</td><td>NaN</td><td>NaN</td><td>NaN</td><td>NaN</td><td>NaN</td><td>NaN</td><td>NaN</td><td>NaN</td><td>NaN</td><td>NaN</td><td>NaN</td><td>NaN</td></tr><tr><td>NaN</td><td>NaN</td><td>NaN</td><td>NaN</td><td>NaN</td><td>NaN</td><td>NaN</td><td>NaN</td><td>NaN</td><td>NaN</td><td>NaN</td><td>NaN</td><td>NaN</td><td>NaN</td><td>NaN</td><td>NaN</td></tr><tr><td>NaN</td><td>NaN</td><td>NaN</td><td>NaN</td><td>NaN</td><td>NaN</td><td>NaN</td><td>NaN</td><td>NaN</td><td>NaN</td><td>NaN</td><td>NaN</td><td>NaN</td><td>NaN</td><td>NaN</td><td>NaN</td></tr></tbody></table></div>"
      ],
      "text/plain": [
       "shape: (661, 16)\n",
       "┌────────────┬────────────┬────────────┬───────────┬───┬────────┬────────┬────────────┬────────────┐\n",
       "│ annualized ┆ monthly_ea ┆ return_idx ┆ price_idx ┆ … ┆ cash_x ┆ cash_y ┆ cash_post_ ┆ cash_post_ │\n",
       "│ _earnings  ┆ rnings     ┆ ---        ┆ ---       ┆   ┆ ---    ┆ ---    ┆ distributi ┆ distributi │\n",
       "│ ---        ┆ ---        ┆ f64        ┆ f64       ┆   ┆ f64    ┆ f64    ┆ on_x       ┆ on_y       │\n",
       "│ f64        ┆ f64        ┆            ┆           ┆   ┆        ┆        ┆ ---        ┆ ---        │\n",
       "│            ┆            ┆            ┆           ┆   ┆        ┆        ┆ f64        ┆ f64        │\n",
       "╞════════════╪════════════╪════════════╪═══════════╪═══╪════════╪════════╪════════════╪════════════╡\n",
       "│ NaN        ┆ NaN        ┆ 1.0        ┆ 1.0       ┆ … ┆ NaN    ┆ NaN    ┆ NaN        ┆ NaN        │\n",
       "│ 0.04       ┆ 0.003274   ┆ 1.003274   ┆ 1.001637  ┆ … ┆ NaN    ┆ NaN    ┆ NaN        ┆ NaN        │\n",
       "│ 0.040065   ┆ 0.003279   ┆ 1.006558   ┆ 1.003276  ┆ … ┆ NaN    ┆ NaN    ┆ NaN        ┆ NaN        │\n",
       "│ 0.040131   ┆ 0.003284   ┆ 1.009853   ┆ 1.004919  ┆ … ┆ NaN    ┆ NaN    ┆ NaN        ┆ NaN        │\n",
       "│ 0.040196   ┆ 0.00329    ┆ 1.013159   ┆ 1.006564  ┆ … ┆ NaN    ┆ NaN    ┆ NaN        ┆ NaN        │\n",
       "│ …          ┆ …          ┆ …          ┆ …         ┆ … ┆ …      ┆ …      ┆ …          ┆ …          │\n",
       "│ NaN        ┆ NaN        ┆ NaN        ┆ NaN       ┆ … ┆ NaN    ┆ NaN    ┆ NaN        ┆ NaN        │\n",
       "│ NaN        ┆ NaN        ┆ NaN        ┆ NaN       ┆ … ┆ NaN    ┆ NaN    ┆ NaN        ┆ NaN        │\n",
       "│ NaN        ┆ NaN        ┆ NaN        ┆ NaN       ┆ … ┆ NaN    ┆ NaN    ┆ NaN        ┆ NaN        │\n",
       "│ NaN        ┆ NaN        ┆ NaN        ┆ NaN       ┆ … ┆ NaN    ┆ NaN    ┆ NaN        ┆ NaN        │\n",
       "│ NaN        ┆ NaN        ┆ NaN        ┆ NaN       ┆ … ┆ NaN    ┆ NaN    ┆ NaN        ┆ NaN        │\n",
       "└────────────┴────────────┴────────────┴───────────┴───┴────────┴────────┴────────────┴────────────┘"
      ]
     },
     "execution_count": 5,
     "metadata": {},
     "output_type": "execute_result"
    }
   ],
   "source": [
    "me = data_table(Market(), Investors(), Squeeze())\n",
    "me[:]"
   ]
  },
  {
   "cell_type": "code",
   "execution_count": 4,
   "id": "babc762a-ed53-4452-afc2-94b79c94f222",
   "metadata": {},
   "outputs": [
    {
     "data": {
      "text/html": [
       "<div><style>\n",
       ".dataframe > thead > tr,\n",
       ".dataframe > tbody > tr {\n",
       "  text-align: right;\n",
       "  white-space: pre-wrap;\n",
       "}\n",
       "</style>\n",
       "<small>shape: (661, 21)</small><table border=\"1\" class=\"dataframe\"><thead><tr><th>annualized_earnings</th><th>monthly_earnings</th><th>return_idx</th><th>price_idx</th><th>total_cash</th><th>expected_return_x</th><th>expected_return_y</th><th>squeeze</th><th>wealth_x</th><th>wealth_y</th><th>equity_x</th><th>equity_y</th><th>cash_x</th><th>cash_y</th><th>cash_post_distribution_x</th><th>cash_post_distribution_y</th><th>n_year_annualized_return</th><th>a</th><th>b</th><th>c</th><th>dz</th></tr><tr><td>f64</td><td>f64</td><td>f64</td><td>f64</td><td>f64</td><td>f64</td><td>f64</td><td>f64</td><td>f64</td><td>f64</td><td>f64</td><td>f64</td><td>f64</td><td>f64</td><td>f64</td><td>f64</td><td>f64</td><td>f64</td><td>f64</td><td>f64</td><td>f64</td></tr></thead><tbody><tr><td>NaN</td><td>NaN</td><td>1.0</td><td>1.0</td><td>NaN</td><td>NaN</td><td>NaN</td><td>NaN</td><td>NaN</td><td>NaN</td><td>NaN</td><td>NaN</td><td>NaN</td><td>NaN</td><td>NaN</td><td>NaN</td><td>NaN</td><td>NaN</td><td>NaN</td><td>NaN</td><td>0.0</td></tr><tr><td>0.04</td><td>0.003274</td><td>1.003274</td><td>1.001637</td><td>NaN</td><td>NaN</td><td>NaN</td><td>NaN</td><td>NaN</td><td>NaN</td><td>NaN</td><td>NaN</td><td>NaN</td><td>NaN</td><td>NaN</td><td>NaN</td><td>NaN</td><td>NaN</td><td>NaN</td><td>NaN</td><td>0.0</td></tr><tr><td>0.040065</td><td>0.003279</td><td>1.006558</td><td>1.003276</td><td>NaN</td><td>NaN</td><td>NaN</td><td>NaN</td><td>NaN</td><td>NaN</td><td>NaN</td><td>NaN</td><td>NaN</td><td>NaN</td><td>NaN</td><td>NaN</td><td>NaN</td><td>NaN</td><td>NaN</td><td>NaN</td><td>0.0</td></tr><tr><td>0.040131</td><td>0.003284</td><td>1.009853</td><td>1.004919</td><td>NaN</td><td>NaN</td><td>NaN</td><td>NaN</td><td>NaN</td><td>NaN</td><td>NaN</td><td>NaN</td><td>NaN</td><td>NaN</td><td>NaN</td><td>NaN</td><td>NaN</td><td>NaN</td><td>NaN</td><td>NaN</td><td>0.0</td></tr><tr><td>0.040196</td><td>0.00329</td><td>1.013159</td><td>1.006564</td><td>NaN</td><td>NaN</td><td>NaN</td><td>NaN</td><td>NaN</td><td>NaN</td><td>NaN</td><td>NaN</td><td>NaN</td><td>NaN</td><td>NaN</td><td>NaN</td><td>NaN</td><td>NaN</td><td>NaN</td><td>NaN</td><td>0.0</td></tr><tr><td>&hellip;</td><td>&hellip;</td><td>&hellip;</td><td>&hellip;</td><td>&hellip;</td><td>&hellip;</td><td>&hellip;</td><td>&hellip;</td><td>&hellip;</td><td>&hellip;</td><td>&hellip;</td><td>&hellip;</td><td>&hellip;</td><td>&hellip;</td><td>&hellip;</td><td>&hellip;</td><td>&hellip;</td><td>&hellip;</td><td>&hellip;</td><td>&hellip;</td><td>&hellip;</td></tr><tr><td>NaN</td><td>NaN</td><td>1.0</td><td>1.0</td><td>NaN</td><td>NaN</td><td>NaN</td><td>NaN</td><td>NaN</td><td>NaN</td><td>NaN</td><td>NaN</td><td>NaN</td><td>NaN</td><td>NaN</td><td>NaN</td><td>NaN</td><td>NaN</td><td>NaN</td><td>NaN</td><td>0.436738</td></tr><tr><td>NaN</td><td>NaN</td><td>1.0</td><td>1.0</td><td>NaN</td><td>NaN</td><td>NaN</td><td>NaN</td><td>NaN</td><td>NaN</td><td>NaN</td><td>NaN</td><td>NaN</td><td>NaN</td><td>NaN</td><td>NaN</td><td>NaN</td><td>NaN</td><td>NaN</td><td>NaN</td><td>-1.321762</td></tr><tr><td>NaN</td><td>NaN</td><td>1.0</td><td>1.0</td><td>NaN</td><td>NaN</td><td>NaN</td><td>NaN</td><td>NaN</td><td>NaN</td><td>NaN</td><td>NaN</td><td>NaN</td><td>NaN</td><td>NaN</td><td>NaN</td><td>NaN</td><td>NaN</td><td>NaN</td><td>NaN</td><td>-0.312224</td></tr><tr><td>NaN</td><td>NaN</td><td>1.0</td><td>1.0</td><td>NaN</td><td>NaN</td><td>NaN</td><td>NaN</td><td>NaN</td><td>NaN</td><td>NaN</td><td>NaN</td><td>NaN</td><td>NaN</td><td>NaN</td><td>NaN</td><td>NaN</td><td>NaN</td><td>NaN</td><td>NaN</td><td>-0.730911</td></tr><tr><td>NaN</td><td>NaN</td><td>1.0</td><td>1.0</td><td>NaN</td><td>NaN</td><td>NaN</td><td>NaN</td><td>NaN</td><td>NaN</td><td>NaN</td><td>NaN</td><td>NaN</td><td>NaN</td><td>NaN</td><td>NaN</td><td>NaN</td><td>NaN</td><td>NaN</td><td>NaN</td><td>-1.428794</td></tr></tbody></table></div>"
      ],
      "text/plain": [
       "shape: (661, 21)\n",
       "┌────────────────────┬──────────────────┬────────────┬───────────┬───┬─────┬─────┬─────┬───────────┐\n",
       "│ annualized_earning ┆ monthly_earnings ┆ return_idx ┆ price_idx ┆ … ┆ a   ┆ b   ┆ c   ┆ dz        │\n",
       "│ s                  ┆ ---              ┆ ---        ┆ ---       ┆   ┆ --- ┆ --- ┆ --- ┆ ---       │\n",
       "│ ---                ┆ f64              ┆ f64        ┆ f64       ┆   ┆ f64 ┆ f64 ┆ f64 ┆ f64       │\n",
       "│ f64                ┆                  ┆            ┆           ┆   ┆     ┆     ┆     ┆           │\n",
       "╞════════════════════╪══════════════════╪════════════╪═══════════╪═══╪═════╪═════╪═════╪═══════════╡\n",
       "│ NaN                ┆ NaN              ┆ 1.0        ┆ 1.0       ┆ … ┆ NaN ┆ NaN ┆ NaN ┆ 0.0       │\n",
       "│ 0.04               ┆ 0.003274         ┆ 1.003274   ┆ 1.001637  ┆ … ┆ NaN ┆ NaN ┆ NaN ┆ 0.0       │\n",
       "│ 0.040065           ┆ 0.003279         ┆ 1.006558   ┆ 1.003276  ┆ … ┆ NaN ┆ NaN ┆ NaN ┆ 0.0       │\n",
       "│ 0.040131           ┆ 0.003284         ┆ 1.009853   ┆ 1.004919  ┆ … ┆ NaN ┆ NaN ┆ NaN ┆ 0.0       │\n",
       "│ 0.040196           ┆ 0.00329          ┆ 1.013159   ┆ 1.006564  ┆ … ┆ NaN ┆ NaN ┆ NaN ┆ 0.0       │\n",
       "│ …                  ┆ …                ┆ …          ┆ …         ┆ … ┆ …   ┆ …   ┆ …   ┆ …         │\n",
       "│ NaN                ┆ NaN              ┆ 1.0        ┆ 1.0       ┆ … ┆ NaN ┆ NaN ┆ NaN ┆ 0.436738  │\n",
       "│ NaN                ┆ NaN              ┆ 1.0        ┆ 1.0       ┆ … ┆ NaN ┆ NaN ┆ NaN ┆ -1.321762 │\n",
       "│ NaN                ┆ NaN              ┆ 1.0        ┆ 1.0       ┆ … ┆ NaN ┆ NaN ┆ NaN ┆ -0.312224 │\n",
       "│ NaN                ┆ NaN              ┆ 1.0        ┆ 1.0       ┆ … ┆ NaN ┆ NaN ┆ NaN ┆ -0.730911 │\n",
       "│ NaN                ┆ NaN              ┆ 1.0        ┆ 1.0       ┆ … ┆ NaN ┆ NaN ┆ NaN ┆ -1.428794 │\n",
       "└────────────────────┴──────────────────┴────────────┴───────────┴───┴─────┴─────┴─────┴───────────┘"
      ]
     },
     "execution_count": 4,
     "metadata": {},
     "output_type": "execute_result"
    }
   ],
   "source": [
    "to_df(history_df(Market(), Investors()))"
   ]
  },
  {
   "cell_type": "code",
   "execution_count": null,
   "id": "646679cf-b57e-4291-9bda-ba2eb7c67922",
   "metadata": {},
   "outputs": [],
   "source": []
  }
 ],
 "metadata": {
  "kernelspec": {
   "display_name": "Python 3 (ipykernel)",
   "language": "python",
   "name": "python3"
  },
  "language_info": {
   "codemirror_mode": {
    "name": "ipython",
    "version": 3
   },
   "file_extension": ".py",
   "mimetype": "text/x-python",
   "name": "python",
   "nbconvert_exporter": "python",
   "pygments_lexer": "ipython3",
   "version": "3.13.2"
  }
 },
 "nbformat": 4,
 "nbformat_minor": 5
}
