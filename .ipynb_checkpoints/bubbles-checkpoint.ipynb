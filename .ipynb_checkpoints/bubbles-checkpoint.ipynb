{
 "cells": [
  {
   "cell_type": "code",
   "execution_count": 8,
   "id": "008c24d6-8784-495a-85fa-6bb09e3c860d",
   "metadata": {},
   "outputs": [
    {
     "name": "stdout",
     "output_type": "stream",
     "text": [
      "The autoreload extension is already loaded. To reload it, use:\n",
      "  %reload_ext autoreload\n"
     ]
    }
   ],
   "source": [
    "%load_ext autoreload\n",
    "%autoreload 2\n",
    "\n",
    "from bubbles.agents import *\n",
    "from bubbles.dz import dz"
   ]
  },
  {
   "cell_type": "code",
   "execution_count": 9,
   "id": "0c08ce50-cd56-4a3c-90b4-4a5b54511851",
   "metadata": {},
   "outputs": [],
   "source": [
    "me = data_table(660, 0.04, 0.5, 0.1, 5)"
   ]
  },
  {
   "cell_type": "code",
   "execution_count": 10,
   "id": "aa708d14-eb4e-4fb2-b65d-a72aca7e756d",
   "metadata": {},
   "outputs": [
    {
     "data": {
      "text/html": [
       "<div><style>\n",
       ".dataframe > thead > tr,\n",
       ".dataframe > tbody > tr {\n",
       "  text-align: right;\n",
       "  white-space: pre-wrap;\n",
       "}\n",
       "</style>\n",
       "<small>shape: (10, 4)</small><table border=\"1\" class=\"dataframe\"><thead><tr><th>monthly_earnings</th><th>stock_price_idx</th><th>annualized_earnings</th><th>stock_total_return_idx</th></tr><tr><td>f64</td><td>f64</td><td>f64</td><td>f64</td></tr></thead><tbody><tr><td>NaN</td><td>1.0</td><td>NaN</td><td>1.0</td></tr><tr><td>0.003274</td><td>1.001637</td><td>0.04</td><td>1.003274</td></tr><tr><td>NaN</td><td>1.0</td><td>NaN</td><td>1.0</td></tr><tr><td>NaN</td><td>1.0</td><td>NaN</td><td>1.0</td></tr><tr><td>NaN</td><td>1.0</td><td>NaN</td><td>1.0</td></tr><tr><td>NaN</td><td>1.0</td><td>NaN</td><td>1.0</td></tr><tr><td>NaN</td><td>NaN</td><td>NaN</td><td>NaN</td></tr><tr><td>NaN</td><td>NaN</td><td>NaN</td><td>NaN</td></tr><tr><td>NaN</td><td>NaN</td><td>NaN</td><td>NaN</td></tr><tr><td>NaN</td><td>NaN</td><td>NaN</td><td>NaN</td></tr></tbody></table></div>"
      ],
      "text/plain": [
       "shape: (10, 4)\n",
       "┌──────────────────┬─────────────────┬─────────────────────┬────────────────────────┐\n",
       "│ monthly_earnings ┆ stock_price_idx ┆ annualized_earnings ┆ stock_total_return_idx │\n",
       "│ ---              ┆ ---             ┆ ---                 ┆ ---                    │\n",
       "│ f64              ┆ f64             ┆ f64                 ┆ f64                    │\n",
       "╞══════════════════╪═════════════════╪═════════════════════╪════════════════════════╡\n",
       "│ NaN              ┆ 1.0             ┆ NaN                 ┆ 1.0                    │\n",
       "│ 0.003274         ┆ 1.001637        ┆ 0.04                ┆ 1.003274               │\n",
       "│ NaN              ┆ 1.0             ┆ NaN                 ┆ 1.0                    │\n",
       "│ NaN              ┆ 1.0             ┆ NaN                 ┆ 1.0                    │\n",
       "│ NaN              ┆ 1.0             ┆ NaN                 ┆ 1.0                    │\n",
       "│ NaN              ┆ 1.0             ┆ NaN                 ┆ 1.0                    │\n",
       "│ NaN              ┆ NaN             ┆ NaN                 ┆ NaN                    │\n",
       "│ NaN              ┆ NaN             ┆ NaN                 ┆ NaN                    │\n",
       "│ NaN              ┆ NaN             ┆ NaN                 ┆ NaN                    │\n",
       "│ NaN              ┆ NaN             ┆ NaN                 ┆ NaN                    │\n",
       "└──────────────────┴─────────────────┴─────────────────────┴────────────────────────┘"
      ]
     },
     "execution_count": 10,
     "metadata": {},
     "output_type": "execute_result"
    }
   ],
   "source": [
    "me[0:10]"
   ]
  },
  {
   "cell_type": "code",
   "execution_count": 11,
   "id": "b47102ff-0e1a-41bc-81f8-2f7b24d3f922",
   "metadata": {},
   "outputs": [
    {
     "ename": "TypeError",
     "evalue": "unsupported operand type(s) for /: 'list' and 'float'",
     "output_type": "error",
     "traceback": [
      "\u001b[0;31m---------------------------------------------------------------------------\u001b[0m",
      "\u001b[0;31mTypeError\u001b[0m                                 Traceback (most recent call last)",
      "Cell \u001b[0;32mIn[11], line 1\u001b[0m\n\u001b[0;32m----> 1\u001b[0m \u001b[43mreturn_weights\u001b[49m\u001b[43m(\u001b[49m\u001b[43m)\u001b[49m\n",
      "File \u001b[0;32m~/Develop/bubbles/src/bubbles/agents.py:50\u001b[0m, in \u001b[0;36mreturn_weights\u001b[0;34m(start_weight, n)\u001b[0m\n\u001b[1;32m     48\u001b[0m \u001b[38;5;28;01mdef\u001b[39;00m\u001b[38;5;250m \u001b[39m\u001b[38;5;21mreturn_weights\u001b[39m(start_weight: \u001b[38;5;28mfloat\u001b[39m \u001b[38;5;241m=\u001b[39m \u001b[38;5;241m36\u001b[39m, n: \u001b[38;5;28mint\u001b[39m \u001b[38;5;241m=\u001b[39m \u001b[38;5;241m5\u001b[39m) \u001b[38;5;241m-\u001b[39m\u001b[38;5;241m>\u001b[39m List[\u001b[38;5;28mfloat\u001b[39m]:\n\u001b[1;32m     49\u001b[0m     w \u001b[38;5;241m=\u001b[39m [start_weight \u001b[38;5;241m*\u001b[39m (\u001b[38;5;241m0.75\u001b[39m\u001b[38;5;241m*\u001b[39m\u001b[38;5;241m*\u001b[39mi) \u001b[38;5;28;01mfor\u001b[39;00m i \u001b[38;5;129;01min\u001b[39;00m \u001b[38;5;28mrange\u001b[39m(n)]\n\u001b[0;32m---> 50\u001b[0m     \u001b[38;5;28;01mreturn\u001b[39;00m \u001b[43mw\u001b[49m\u001b[43m \u001b[49m\u001b[38;5;241;43m/\u001b[39;49m\u001b[43m \u001b[49m\u001b[38;5;28;43msum\u001b[39;49m\u001b[43m(\u001b[49m\u001b[43mw\u001b[49m\u001b[43m)\u001b[49m\n",
      "\u001b[0;31mTypeError\u001b[0m: unsupported operand type(s) for /: 'list' and 'float'"
     ]
    }
   ],
   "source": [
    "return_weights()"
   ]
  },
  {
   "cell_type": "code",
   "execution_count": null,
   "id": "dfb2249a-e2df-47db-95d4-cbd8e089329f",
   "metadata": {},
   "outputs": [],
   "source": []
  }
 ],
 "metadata": {
  "kernelspec": {
   "display_name": "Python 3 (ipykernel)",
   "language": "python",
   "name": "python3"
  },
  "language_info": {
   "codemirror_mode": {
    "name": "ipython",
    "version": 3
   },
   "file_extension": ".py",
   "mimetype": "text/x-python",
   "name": "python",
   "nbconvert_exporter": "python",
   "pygments_lexer": "ipython3",
   "version": "3.13.2"
  }
 },
 "nbformat": 4,
 "nbformat_minor": 5
}
