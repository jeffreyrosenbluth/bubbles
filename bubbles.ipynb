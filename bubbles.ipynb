{
 "cells": [
  {
   "cell_type": "code",
   "execution_count": 1,
   "id": "008c24d6-8784-495a-85fa-6bb09e3c860d",
   "metadata": {},
   "outputs": [],
   "source": [
    "%load_ext autoreload\n",
    "%autoreload 2\n",
    "\n",
    "from bubbles.agents import *\n",
    "from bubbles.dz import dz"
   ]
  },
  {
   "cell_type": "code",
   "execution_count": 22,
   "id": "0c08ce50-cd56-4a3c-90b4-4a5b54511851",
   "metadata": {},
   "outputs": [
    {
     "data": {
      "text/html": [
       "<div><style>\n",
       ".dataframe > thead > tr,\n",
       ".dataframe > tbody > tr {\n",
       "  text-align: right;\n",
       "  white-space: pre-wrap;\n",
       "}\n",
       "</style>\n",
       "<small>shape: (601, 20)</small><table border=\"1\" class=\"dataframe\"><thead><tr><th>monthly_earnings</th><th>price_idx</th><th>annualized_earnings</th><th>return_idx</th><th>total_cash</th><th>n_year_annualized_return</th><th>squeeze</th><th>expected_return_y</th><th>expected_return_x</th><th>wealth_x</th><th>wealth_y</th><th>equity_x</th><th>equity_y</th><th>cash_x</th><th>cash_y</th><th>cash_post_distribution_x</th><th>cash_post_distribution_y</th><th>a</th><th>b</th><th>c</th></tr><tr><td>f64</td><td>f64</td><td>f64</td><td>f64</td><td>f64</td><td>f64</td><td>f64</td><td>f64</td><td>f64</td><td>f64</td><td>f64</td><td>f64</td><td>f64</td><td>f64</td><td>f64</td><td>f64</td><td>f64</td><td>f64</td><td>f64</td><td>f64</td></tr></thead><tbody><tr><td>0.003605</td><td>1.1031</td><td>0.044045</td><td>1.216634</td><td>1.018658</td><td>0.039928</td><td>NaN</td><td>0.039928</td><td>0.039928</td><td>1.060879</td><td>1.060879</td><td>0.55155</td><td>0.55155</td><td>0.509329</td><td>0.509329</td><td>NaN</td><td>NaN</td><td>NaN</td><td>NaN</td><td>NaN</td></tr><tr><td>0.003533</td><td>1.092614</td><td>0.043146</td><td>1.207018</td><td>1.020425</td><td>0.039996</td><td>0.039998</td><td>0.039489</td><td>0.039935</td><td>1.056519</td><td>1.056519</td><td>0.54938</td><td>0.543234</td><td>0.50714</td><td>0.513285</td><td>0.510212</td><td>0.510212</td><td>-0.740005</td><td>0.546202</td><td>0.286634</td></tr><tr><td>0.003578</td><td>1.09892</td><td>0.043723</td><td>1.21596</td><td>1.022214</td><td>0.036198</td><td>0.03848</td><td>0.039788</td><td>0.03979</td><td>1.06059</td><td>1.060544</td><td>0.549487</td><td>0.549433</td><td>0.511103</td><td>0.511111</td><td>0.508039</td><td>0.514175</td><td>-0.739495</td><td>0.546269</td><td>0.292727</td></tr><tr><td>0.003612</td><td>1.104141</td><td>0.04414</td><td>1.223736</td><td>1.02402</td><td>0.037587</td><td>0.039035</td><td>0.039977</td><td>0.039714</td><td>1.064103</td><td>1.064057</td><td>0.550262</td><td>0.553879</td><td>0.513842</td><td>0.510178</td><td>0.512006</td><td>0.512014</td><td>-0.741431</td><td>0.552123</td><td>0.294277</td></tr><tr><td>0.003678</td><td>1.115171</td><td>0.044958</td><td>1.237998</td><td>1.025859</td><td>0.03864</td><td>0.039456</td><td>0.040315</td><td>0.039688</td><td>1.070517</td><td>1.070513</td><td>0.553218</td><td>0.561952</td><td>0.517298</td><td>0.508561</td><td>0.514758</td><td>0.511101</td><td>-0.742458</td><td>0.559672</td><td>0.299196</td></tr><tr><td>&hellip;</td><td>&hellip;</td><td>&hellip;</td><td>&hellip;</td><td>&hellip;</td><td>&hellip;</td><td>&hellip;</td><td>&hellip;</td><td>&hellip;</td><td>&hellip;</td><td>&hellip;</td><td>&hellip;</td><td>&hellip;</td><td>&hellip;</td><td>&hellip;</td><td>&hellip;</td><td>&hellip;</td><td>&hellip;</td><td>&hellip;</td><td>&hellip;</td></tr><tr><td>0.043418</td><td>9.398021</td><td>0.534867</td><td>30.789823</td><td>5.536573</td><td>0.083949</td><td>0.056529</td><td>0.056913</td><td>0.033085</td><td>5.380348</td><td>9.554246</td><td>2.317838</td><td>7.080184</td><td>3.06251</td><td>2.474063</td><td>3.208749</td><td>2.327824</td><td>-0.900456</td><td>6.737467</td><td>16.211926</td></tr><tr><td>0.041857</td><td>9.336524</td><td>0.514778</td><td>30.656911</td><td>5.557501</td><td>0.093786</td><td>0.059655</td><td>0.055136</td><td>0.035742</td><td>5.370342</td><td>9.523683</td><td>2.499318</td><td>6.837206</td><td>2.871024</td><td>2.686478</td><td>3.067672</td><td>2.48983</td><td>-0.88522</td><td>6.477389</td><td>16.688932</td></tr><tr><td>0.041573</td><td>9.449383</td><td>0.511279</td><td>31.095743</td><td>5.578288</td><td>0.087655</td><td>0.057739</td><td>0.054107</td><td>0.037942</td><td>5.406118</td><td>9.621553</td><td>2.67081</td><td>6.778573</td><td>2.735308</td><td>2.84298</td><td>2.876588</td><td>2.7017</td><td>-0.867751</td><td>6.296307</td><td>17.985961</td></tr><tr><td>0.040786</td><td>9.473105</td><td>0.501214</td><td>31.240914</td><td>5.598681</td><td>0.09041</td><td>0.058613</td><td>0.052909</td><td>0.040009</td><td>5.418587</td><td>9.653199</td><td>2.822816</td><td>6.650289</td><td>2.59577</td><td>3.00291</td><td>2.741072</td><td>2.857609</td><td>-0.852756</td><td>6.109586</td><td>18.649378</td></tr><tr><td>0.039187</td><td>9.356618</td><td>0.481098</td><td>30.921374</td><td>5.618274</td><td>0.09085</td><td>0.058751</td><td>0.051418</td><td>0.041883</td><td>5.389714</td><td>9.585178</td><td>2.939305</td><td>6.417313</td><td>2.45041</td><td>3.167865</td><td>2.601609</td><td>3.016665</td><td>-0.837494</td><td>5.816443</td><td>18.89727</td></tr></tbody></table></div>"
      ],
      "text/plain": [
       "shape: (601, 20)\n",
       "┌───────────┬───────────┬───────────┬───────────┬───┬───────────┬───────────┬──────────┬───────────┐\n",
       "│ monthly_e ┆ price_idx ┆ annualize ┆ return_id ┆ … ┆ cash_post ┆ a         ┆ b        ┆ c         │\n",
       "│ arnings   ┆ ---       ┆ d_earning ┆ x         ┆   ┆ _distribu ┆ ---       ┆ ---      ┆ ---       │\n",
       "│ ---       ┆ f64       ┆ s         ┆ ---       ┆   ┆ tion_y    ┆ f64       ┆ f64      ┆ f64       │\n",
       "│ f64       ┆           ┆ ---       ┆ f64       ┆   ┆ ---       ┆           ┆          ┆           │\n",
       "│           ┆           ┆ f64       ┆           ┆   ┆ f64       ┆           ┆          ┆           │\n",
       "╞═══════════╪═══════════╪═══════════╪═══════════╪═══╪═══════════╪═══════════╪══════════╪═══════════╡\n",
       "│ 0.003605  ┆ 1.1031    ┆ 0.044045  ┆ 1.216634  ┆ … ┆ NaN       ┆ NaN       ┆ NaN      ┆ NaN       │\n",
       "│ 0.003533  ┆ 1.092614  ┆ 0.043146  ┆ 1.207018  ┆ … ┆ 0.510212  ┆ -0.740005 ┆ 0.546202 ┆ 0.286634  │\n",
       "│ 0.003578  ┆ 1.09892   ┆ 0.043723  ┆ 1.21596   ┆ … ┆ 0.514175  ┆ -0.739495 ┆ 0.546269 ┆ 0.292727  │\n",
       "│ 0.003612  ┆ 1.104141  ┆ 0.04414   ┆ 1.223736  ┆ … ┆ 0.512014  ┆ -0.741431 ┆ 0.552123 ┆ 0.294277  │\n",
       "│ 0.003678  ┆ 1.115171  ┆ 0.044958  ┆ 1.237998  ┆ … ┆ 0.511101  ┆ -0.742458 ┆ 0.559672 ┆ 0.299196  │\n",
       "│ …         ┆ …         ┆ …         ┆ …         ┆ … ┆ …         ┆ …         ┆ …        ┆ …         │\n",
       "│ 0.043418  ┆ 9.398021  ┆ 0.534867  ┆ 30.789823 ┆ … ┆ 2.327824  ┆ -0.900456 ┆ 6.737467 ┆ 16.211926 │\n",
       "│ 0.041857  ┆ 9.336524  ┆ 0.514778  ┆ 30.656911 ┆ … ┆ 2.48983   ┆ -0.88522  ┆ 6.477389 ┆ 16.688932 │\n",
       "│ 0.041573  ┆ 9.449383  ┆ 0.511279  ┆ 31.095743 ┆ … ┆ 2.7017    ┆ -0.867751 ┆ 6.296307 ┆ 17.985961 │\n",
       "│ 0.040786  ┆ 9.473105  ┆ 0.501214  ┆ 31.240914 ┆ … ┆ 2.857609  ┆ -0.852756 ┆ 6.109586 ┆ 18.649378 │\n",
       "│ 0.039187  ┆ 9.356618  ┆ 0.481098  ┆ 30.921374 ┆ … ┆ 3.016665  ┆ -0.837494 ┆ 5.816443 ┆ 18.89727  │\n",
       "└───────────┴───────────┴───────────┴───────────┴───┴───────────┴───────────┴──────────┴───────────┘"
      ]
     },
     "execution_count": 22,
     "metadata": {},
     "output_type": "execute_result"
    }
   ],
   "source": [
    "me = data_table(660, 0.04, 0.5, 0.1, 5, Investors(), Squeeze())\n",
    "me[60:]"
   ]
  },
  {
   "cell_type": "code",
   "execution_count": null,
   "id": "babc762a-ed53-4452-afc2-94b79c94f222",
   "metadata": {},
   "outputs": [],
   "source": [
    "29.821987\t9.1236\n",
    "30.789823\t9.3980\n",
    "30.656911\t9.3365\n",
    "31.095743\t9.4494\n",
    "31.240914\t9.4731\n",
    "30.921374\t9.3566"
   ]
  }
 ],
 "metadata": {
  "kernelspec": {
   "display_name": "Python 3 (ipykernel)",
   "language": "python",
   "name": "python3"
  },
  "language_info": {
   "codemirror_mode": {
    "name": "ipython",
    "version": 3
   },
   "file_extension": ".py",
   "mimetype": "text/x-python",
   "name": "python",
   "nbconvert_exporter": "python",
   "pygments_lexer": "ipython3",
   "version": "3.13.2"
  }
 },
 "nbformat": 4,
 "nbformat_minor": 5
}
