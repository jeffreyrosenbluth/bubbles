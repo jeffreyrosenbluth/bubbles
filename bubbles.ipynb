{
 "cells": [
  {
   "cell_type": "code",
   "execution_count": 1,
   "id": "008c24d6-8784-495a-85fa-6bb09e3c860d",
   "metadata": {},
   "outputs": [],
   "source": [
    "from bubbles.agents import *"
   ]
  },
  {
   "cell_type": "code",
   "execution_count": 2,
   "id": "0c08ce50-cd56-4a3c-90b4-4a5b54511851",
   "metadata": {},
   "outputs": [
    {
     "data": {
      "text/html": [
       "<div><style>\n",
       ".dataframe > thead > tr,\n",
       ".dataframe > tbody > tr {\n",
       "  text-align: right;\n",
       "  white-space: pre-wrap;\n",
       "}\n",
       "</style>\n",
       "<small>shape: (10, 2)</small><table border=\"1\" class=\"dataframe\"><thead><tr><th>monthly_earnings</th><th>stock_price_idx</th></tr><tr><td>f64</td><td>f64</td></tr></thead><tbody><tr><td>NaN</td><td>1.0</td></tr><tr><td>0.003274</td><td>1.001637</td></tr><tr><td>NaN</td><td>1.003274</td></tr><tr><td>NaN</td><td>NaN</td></tr><tr><td>NaN</td><td>NaN</td></tr><tr><td>NaN</td><td>NaN</td></tr><tr><td>NaN</td><td>NaN</td></tr><tr><td>NaN</td><td>NaN</td></tr><tr><td>NaN</td><td>NaN</td></tr><tr><td>NaN</td><td>1.0</td></tr></tbody></table></div>"
      ],
      "text/plain": [
       "shape: (10, 2)\n",
       "┌──────────────────┬─────────────────┐\n",
       "│ monthly_earnings ┆ stock_price_idx │\n",
       "│ ---              ┆ ---             │\n",
       "│ f64              ┆ f64             │\n",
       "╞══════════════════╪═════════════════╡\n",
       "│ NaN              ┆ 1.0             │\n",
       "│ 0.003274         ┆ 1.001637        │\n",
       "│ NaN              ┆ 1.003274        │\n",
       "│ NaN              ┆ NaN             │\n",
       "│ NaN              ┆ NaN             │\n",
       "│ NaN              ┆ NaN             │\n",
       "│ NaN              ┆ NaN             │\n",
       "│ NaN              ┆ NaN             │\n",
       "│ NaN              ┆ NaN             │\n",
       "│ NaN              ┆ 1.0             │\n",
       "└──────────────────┴─────────────────┘"
      ]
     },
     "execution_count": 2,
     "metadata": {},
     "output_type": "execute_result"
    }
   ],
   "source": [
    "earnings(9, 0.04, 0.5)"
   ]
  },
  {
   "cell_type": "code",
   "execution_count": null,
   "id": "aa708d14-eb4e-4fb2-b65d-a72aca7e756d",
   "metadata": {},
   "outputs": [],
   "source": []
  }
 ],
 "metadata": {
  "kernelspec": {
   "display_name": "Python 3 (ipykernel)",
   "language": "python",
   "name": "python3"
  },
  "language_info": {
   "codemirror_mode": {
    "name": "ipython",
    "version": 3
   },
   "file_extension": ".py",
   "mimetype": "text/x-python",
   "name": "python",
   "nbconvert_exporter": "python",
   "pygments_lexer": "ipython3",
   "version": "3.13.2"
  }
 },
 "nbformat": 4,
 "nbformat_minor": 5
}
