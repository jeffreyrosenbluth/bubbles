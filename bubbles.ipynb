{
 "cells": [
  {
   "cell_type": "code",
   "execution_count": 1,
   "id": "008c24d6-8784-495a-85fa-6bb09e3c860d",
   "metadata": {},
   "outputs": [],
   "source": [
    "%load_ext autoreload\n",
    "%autoreload 2\n",
    "\n",
    "from bubbles.agents import *\n",
    "from bubbles.dz import dz"
   ]
  },
  {
   "cell_type": "code",
   "execution_count": 11,
   "id": "0c08ce50-cd56-4a3c-90b4-4a5b54511851",
   "metadata": {},
   "outputs": [
    {
     "name": "stderr",
     "output_type": "stream",
     "text": [
      "/Users/jeffreyrosenbluth/Develop/bubbles/src/bubbles/agents.py:79: RuntimeWarning: invalid value encountered in sqrt\n",
      "  root1 = (-b + np.sqrt(discriminant)) / (2 * a)\n",
      "/Users/jeffreyrosenbluth/Develop/bubbles/src/bubbles/agents.py:80: RuntimeWarning: invalid value encountered in sqrt\n",
      "  root2 = (-b - np.sqrt(discriminant)) / (2 * a)\n"
     ]
    },
    {
     "data": {
      "text/html": [
       "<div><style>\n",
       ".dataframe > thead > tr,\n",
       ".dataframe > tbody > tr {\n",
       "  text-align: right;\n",
       "  white-space: pre-wrap;\n",
       "}\n",
       "</style>\n",
       "<small>shape: (10, 19)</small><table border=\"1\" class=\"dataframe\"><thead><tr><th>monthly_earnings</th><th>stock_price_idx</th><th>annualized_earnings</th><th>stock_total_return_idx</th><th>total_cash</th><th>n_year_annualized_return</th><th>expected_return_y</th><th>expected_return_x</th><th>wealth_x</th><th>wealth_y</th><th>equity_x</th><th>equity_y</th><th>cash_x</th><th>cash_y</th><th>cash_post_distribution_x</th><th>cash_post_distribution_y</th><th>a</th><th>b</th><th>c</th></tr><tr><td>f64</td><td>f64</td><td>f64</td><td>f64</td><td>f64</td><td>f64</td><td>f64</td><td>f64</td><td>f64</td><td>f64</td><td>f64</td><td>f64</td><td>f64</td><td>f64</td><td>f64</td><td>f64</td><td>f64</td><td>f64</td><td>f64</td></tr></thead><tbody><tr><td>0.003599</td><td>1.101297</td><td>0.043973</td><td>1.212665</td><td>NaN</td><td>NaN</td><td>0.039928</td><td>NaN</td><td>NaN</td><td>NaN</td><td>NaN</td><td>NaN</td><td>NaN</td><td>NaN</td><td>NaN</td><td>NaN</td><td>NaN</td><td>NaN</td><td>NaN</td></tr><tr><td>0.003605</td><td>1.1031</td><td>0.044045</td><td>1.216634</td><td>1.018658</td><td>0.039928</td><td>0.039928</td><td>0.039928</td><td>1.060879</td><td>1.060879</td><td>0.55155</td><td>0.55155</td><td>0.509329</td><td>0.509329</td><td>NaN</td><td>NaN</td><td>NaN</td><td>NaN</td><td>NaN</td></tr><tr><td>0.003533</td><td>1.092614</td><td>0.043146</td><td>1.22053</td><td>1.020425</td><td>0.039996</td><td>0.039051</td><td>0.039935</td><td>1.062645</td><td>1.062645</td><td>0.552565</td><td>0.540325</td><td>0.51008</td><td>0.52232</td><td>0.510212</td><td>0.510212</td><td>-0.740005</td><td>0.546202</td><td>0.286634</td></tr><tr><td>0.003578</td><td>1.107398</td><td>0.043714</td><td>1.224483</td><td>1.022214</td><td>0.039972</td><td>0.039501</td><td>0.039941</td><td>1.064435</td><td>1.064395</td><td>0.55357</td><td>0.547454</td><td>0.510865</td><td>0.516941</td><td>0.510985</td><td>0.523205</td><td>-0.736991</td><td>0.547222</td><td>0.297803</td></tr><tr><td>0.003612</td><td>1.106893</td><td>0.044133</td><td>1.22848</td><td>1.02402</td><td>0.03996</td><td>0.039815</td><td>0.039945</td><td>1.066242</td><td>1.066182</td><td>0.55457</td><td>0.552736</td><td>0.511672</td><td>0.513447</td><td>0.511768</td><td>0.517834</td><td>-0.740002</td><td>0.550265</td><td>0.297575</td></tr><tr><td>0.003678</td><td>1.119616</td><td>0.044953</td><td>1.232557</td><td>1.025859</td><td>0.039957</td><td>0.040488</td><td>0.039949</td><td>1.068082</td><td>1.068016</td><td>0.55558</td><td>0.56304</td><td>0.512502</td><td>0.504976</td><td>0.512593</td><td>0.514365</td><td>-0.739389</td><td>0.558923</td><td>0.301074</td></tr><tr><td>0.003785</td><td>1.131705</td><td>0.046282</td><td>1.236758</td><td>1.027752</td><td>0.039972</td><td>0.041613</td><td>0.039953</td><td>1.069976</td><td>1.069936</td><td>0.556621</td><td>0.579733</td><td>0.513355</td><td>0.490202</td><td>0.513441</td><td>0.505928</td><td>-0.741856</td><td>0.570156</td><td>0.304887</td></tr><tr><td>0.003845</td><td>1.136677</td><td>0.047022</td><td>1.241034</td><td>1.029674</td><td>0.040018</td><td>0.042206</td><td>0.039958</td><td>1.0719</td><td>1.07194</td><td>0.557698</td><td>0.589085</td><td>0.514202</td><td>0.482854</td><td>0.514301</td><td>0.491187</td><td>-0.7441</td><td>0.581226</td><td>0.300736</td></tr><tr><td>0.003985</td><td>1.15822</td><td>0.04877</td><td>1.245472</td><td>1.031666</td><td>0.04008</td><td>0.043697</td><td>0.039966</td><td>1.073895</td><td>1.074047</td><td>0.558839</td><td>0.611096</td><td>0.515056</td><td>0.462951</td><td>0.51518</td><td>0.483887</td><td>-0.744679</td><td>0.597196</td><td>0.307281</td></tr><tr><td>0.003983</td><td>1.148353</td><td>0.048746</td><td>1.249917</td><td>1.033658</td><td>0.040183</td><td>0.043597</td><td>0.039976</td><td>1.075889</td><td>1.076228</td><td>0.560028</td><td>0.610938</td><td>0.515861</td><td>0.465289</td><td>0.516017</td><td>0.464001</td><td>-0.748847</td><td>0.603482</td><td>0.294505</td></tr></tbody></table></div>"
      ],
      "text/plain": [
       "shape: (10, 19)\n",
       "┌────────────┬───────────┬───────────┬───────────┬───┬───────────┬───────────┬──────────┬──────────┐\n",
       "│ monthly_ea ┆ stock_pri ┆ annualize ┆ stock_tot ┆ … ┆ cash_post ┆ a         ┆ b        ┆ c        │\n",
       "│ rnings     ┆ ce_idx    ┆ d_earning ┆ al_return ┆   ┆ _distribu ┆ ---       ┆ ---      ┆ ---      │\n",
       "│ ---        ┆ ---       ┆ s         ┆ _idx      ┆   ┆ tion_y    ┆ f64       ┆ f64      ┆ f64      │\n",
       "│ f64        ┆ f64       ┆ ---       ┆ ---       ┆   ┆ ---       ┆           ┆          ┆          │\n",
       "│            ┆           ┆ f64       ┆ f64       ┆   ┆ f64       ┆           ┆          ┆          │\n",
       "╞════════════╪═══════════╪═══════════╪═══════════╪═══╪═══════════╪═══════════╪══════════╪══════════╡\n",
       "│ 0.003599   ┆ 1.101297  ┆ 0.043973  ┆ 1.212665  ┆ … ┆ NaN       ┆ NaN       ┆ NaN      ┆ NaN      │\n",
       "│ 0.003605   ┆ 1.1031    ┆ 0.044045  ┆ 1.216634  ┆ … ┆ NaN       ┆ NaN       ┆ NaN      ┆ NaN      │\n",
       "│ 0.003533   ┆ 1.092614  ┆ 0.043146  ┆ 1.22053   ┆ … ┆ 0.510212  ┆ -0.740005 ┆ 0.546202 ┆ 0.286634 │\n",
       "│ 0.003578   ┆ 1.107398  ┆ 0.043714  ┆ 1.224483  ┆ … ┆ 0.523205  ┆ -0.736991 ┆ 0.547222 ┆ 0.297803 │\n",
       "│ 0.003612   ┆ 1.106893  ┆ 0.044133  ┆ 1.22848   ┆ … ┆ 0.517834  ┆ -0.740002 ┆ 0.550265 ┆ 0.297575 │\n",
       "│ 0.003678   ┆ 1.119616  ┆ 0.044953  ┆ 1.232557  ┆ … ┆ 0.514365  ┆ -0.739389 ┆ 0.558923 ┆ 0.301074 │\n",
       "│ 0.003785   ┆ 1.131705  ┆ 0.046282  ┆ 1.236758  ┆ … ┆ 0.505928  ┆ -0.741856 ┆ 0.570156 ┆ 0.304887 │\n",
       "│ 0.003845   ┆ 1.136677  ┆ 0.047022  ┆ 1.241034  ┆ … ┆ 0.491187  ┆ -0.7441   ┆ 0.581226 ┆ 0.300736 │\n",
       "│ 0.003985   ┆ 1.15822   ┆ 0.04877   ┆ 1.245472  ┆ … ┆ 0.483887  ┆ -0.744679 ┆ 0.597196 ┆ 0.307281 │\n",
       "│ 0.003983   ┆ 1.148353  ┆ 0.048746  ┆ 1.249917  ┆ … ┆ 0.464001  ┆ -0.748847 ┆ 0.603482 ┆ 0.294505 │\n",
       "└────────────┴───────────┴───────────┴───────────┴───┴───────────┴───────────┴──────────┴──────────┘"
      ]
     },
     "execution_count": 11,
     "metadata": {},
     "output_type": "execute_result"
    }
   ],
   "source": [
    "me = data_table(660, 0.04, 0.5, 0.1, 5, Investors(), Squeeze())\n",
    "me[59:69]"
   ]
  },
  {
   "cell_type": "code",
   "execution_count": null,
   "id": "babc762a-ed53-4452-afc2-94b79c94f222",
   "metadata": {},
   "outputs": [],
   "source": []
  }
 ],
 "metadata": {
  "kernelspec": {
   "display_name": "Python 3 (ipykernel)",
   "language": "python",
   "name": "python3"
  },
  "language_info": {
   "codemirror_mode": {
    "name": "ipython",
    "version": 3
   },
   "file_extension": ".py",
   "mimetype": "text/x-python",
   "name": "python",
   "nbconvert_exporter": "python",
   "pygments_lexer": "ipython3",
   "version": "3.13.2"
  }
 },
 "nbformat": 4,
 "nbformat_minor": 5
}
