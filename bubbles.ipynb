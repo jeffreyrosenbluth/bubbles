{
 "cells": [
  {
   "cell_type": "code",
   "execution_count": 1,
   "id": "008c24d6-8784-495a-85fa-6bb09e3c860d",
   "metadata": {},
   "outputs": [],
   "source": [
    "%load_ext autoreload\n",
    "%autoreload 2\n",
    "\n",
    "import polars as pl\n",
    "from bubbles.agents import *\n",
    "from bubbles.dz import dz"
   ]
  },
  {
   "cell_type": "code",
   "execution_count": 5,
   "id": "0c08ce50-cd56-4a3c-90b4-4a5b54511851",
   "metadata": {},
   "outputs": [
    {
     "data": {
      "text/html": [
       "<div><style>\n",
       ".dataframe > thead > tr,\n",
       ".dataframe > tbody > tr {\n",
       "  text-align: right;\n",
       "  white-space: pre-wrap;\n",
       "}\n",
       "</style>\n",
       "<small>shape: (661, 16)</small><table border=\"1\" class=\"dataframe\"><thead><tr><th>annualized_earnings</th><th>monthly_earnings</th><th>return_idx</th><th>price_idx</th><th>total_cash</th><th>expected_return_y</th><th>expected_return_x</th><th>n_year_annualized_return</th><th>wealth_x</th><th>wealth_y</th><th>equity_x</th><th>equity_y</th><th>cash_x</th><th>cash_y</th><th>cash_post_distribution_x</th><th>cash_post_distribution_y</th></tr><tr><td>f64</td><td>f64</td><td>f64</td><td>f64</td><td>f64</td><td>f64</td><td>f64</td><td>f64</td><td>f64</td><td>f64</td><td>f64</td><td>f64</td><td>f64</td><td>f64</td><td>f64</td><td>f64</td></tr></thead><tbody><tr><td>NaN</td><td>NaN</td><td>1.0</td><td>1.0</td><td>NaN</td><td>NaN</td><td>NaN</td><td>NaN</td><td>NaN</td><td>NaN</td><td>NaN</td><td>NaN</td><td>NaN</td><td>NaN</td><td>NaN</td><td>NaN</td></tr><tr><td>0.04</td><td>0.003274</td><td>1.003274</td><td>1.001637</td><td>NaN</td><td>NaN</td><td>NaN</td><td>NaN</td><td>NaN</td><td>NaN</td><td>NaN</td><td>NaN</td><td>NaN</td><td>NaN</td><td>NaN</td><td>NaN</td></tr><tr><td>0.040065</td><td>0.003279</td><td>1.006558</td><td>1.003276</td><td>NaN</td><td>NaN</td><td>NaN</td><td>NaN</td><td>NaN</td><td>NaN</td><td>NaN</td><td>NaN</td><td>NaN</td><td>NaN</td><td>NaN</td><td>NaN</td></tr><tr><td>0.040131</td><td>0.003284</td><td>1.009853</td><td>1.004919</td><td>NaN</td><td>NaN</td><td>NaN</td><td>NaN</td><td>NaN</td><td>NaN</td><td>NaN</td><td>NaN</td><td>NaN</td><td>NaN</td><td>NaN</td><td>NaN</td></tr><tr><td>0.040196</td><td>0.00329</td><td>1.013159</td><td>1.006564</td><td>NaN</td><td>NaN</td><td>NaN</td><td>NaN</td><td>NaN</td><td>NaN</td><td>NaN</td><td>NaN</td><td>NaN</td><td>NaN</td><td>NaN</td><td>NaN</td></tr><tr><td>&hellip;</td><td>&hellip;</td><td>&hellip;</td><td>&hellip;</td><td>&hellip;</td><td>&hellip;</td><td>&hellip;</td><td>&hellip;</td><td>&hellip;</td><td>&hellip;</td><td>&hellip;</td><td>&hellip;</td><td>&hellip;</td><td>&hellip;</td><td>&hellip;</td><td>&hellip;</td></tr><tr><td>0.534867</td><td>0.043418</td><td>30.789823</td><td>9.398021</td><td>5.536573</td><td>0.056913</td><td>0.033085</td><td>0.083949</td><td>5.380348</td><td>9.554246</td><td>2.317838</td><td>7.080184</td><td>3.06251</td><td>2.474063</td><td>3.208749</td><td>2.327824</td></tr><tr><td>0.514778</td><td>0.041857</td><td>30.656911</td><td>9.336524</td><td>5.557501</td><td>0.055136</td><td>0.035742</td><td>0.093786</td><td>5.370342</td><td>9.523683</td><td>2.499318</td><td>6.837206</td><td>2.871024</td><td>2.686478</td><td>3.067672</td><td>2.48983</td></tr><tr><td>0.511279</td><td>0.041573</td><td>31.095743</td><td>9.449383</td><td>5.578288</td><td>0.054107</td><td>0.037942</td><td>0.087655</td><td>5.406118</td><td>9.621553</td><td>2.67081</td><td>6.778573</td><td>2.735308</td><td>2.84298</td><td>2.876588</td><td>2.7017</td></tr><tr><td>0.501214</td><td>0.040786</td><td>31.240914</td><td>9.473105</td><td>5.598681</td><td>0.052909</td><td>0.040009</td><td>0.09041</td><td>5.418587</td><td>9.653199</td><td>2.822816</td><td>6.650289</td><td>2.59577</td><td>3.00291</td><td>2.741072</td><td>2.857609</td></tr><tr><td>0.481098</td><td>0.039187</td><td>30.921374</td><td>9.356618</td><td>5.618274</td><td>0.051418</td><td>0.041883</td><td>0.09085</td><td>5.389714</td><td>9.585178</td><td>2.939305</td><td>6.417313</td><td>2.45041</td><td>3.167865</td><td>2.601609</td><td>3.016665</td></tr></tbody></table></div>"
      ],
      "text/plain": [
       "shape: (661, 16)\n",
       "┌────────────┬───────────┬───────────┬───────────┬───┬──────────┬──────────┬───────────┬───────────┐\n",
       "│ annualized ┆ monthly_e ┆ return_id ┆ price_idx ┆ … ┆ cash_x   ┆ cash_y   ┆ cash_post ┆ cash_post │\n",
       "│ _earnings  ┆ arnings   ┆ x         ┆ ---       ┆   ┆ ---      ┆ ---      ┆ _distribu ┆ _distribu │\n",
       "│ ---        ┆ ---       ┆ ---       ┆ f64       ┆   ┆ f64      ┆ f64      ┆ tion_x    ┆ tion_y    │\n",
       "│ f64        ┆ f64       ┆ f64       ┆           ┆   ┆          ┆          ┆ ---       ┆ ---       │\n",
       "│            ┆           ┆           ┆           ┆   ┆          ┆          ┆ f64       ┆ f64       │\n",
       "╞════════════╪═══════════╪═══════════╪═══════════╪═══╪══════════╪══════════╪═══════════╪═══════════╡\n",
       "│ NaN        ┆ NaN       ┆ 1.0       ┆ 1.0       ┆ … ┆ NaN      ┆ NaN      ┆ NaN       ┆ NaN       │\n",
       "│ 0.04       ┆ 0.003274  ┆ 1.003274  ┆ 1.001637  ┆ … ┆ NaN      ┆ NaN      ┆ NaN       ┆ NaN       │\n",
       "│ 0.040065   ┆ 0.003279  ┆ 1.006558  ┆ 1.003276  ┆ … ┆ NaN      ┆ NaN      ┆ NaN       ┆ NaN       │\n",
       "│ 0.040131   ┆ 0.003284  ┆ 1.009853  ┆ 1.004919  ┆ … ┆ NaN      ┆ NaN      ┆ NaN       ┆ NaN       │\n",
       "│ 0.040196   ┆ 0.00329   ┆ 1.013159  ┆ 1.006564  ┆ … ┆ NaN      ┆ NaN      ┆ NaN       ┆ NaN       │\n",
       "│ …          ┆ …         ┆ …         ┆ …         ┆ … ┆ …        ┆ …        ┆ …         ┆ …         │\n",
       "│ 0.534867   ┆ 0.043418  ┆ 30.789823 ┆ 9.398021  ┆ … ┆ 3.06251  ┆ 2.474063 ┆ 3.208749  ┆ 2.327824  │\n",
       "│ 0.514778   ┆ 0.041857  ┆ 30.656911 ┆ 9.336524  ┆ … ┆ 2.871024 ┆ 2.686478 ┆ 3.067672  ┆ 2.48983   │\n",
       "│ 0.511279   ┆ 0.041573  ┆ 31.095743 ┆ 9.449383  ┆ … ┆ 2.735308 ┆ 2.84298  ┆ 2.876588  ┆ 2.7017    │\n",
       "│ 0.501214   ┆ 0.040786  ┆ 31.240914 ┆ 9.473105  ┆ … ┆ 2.59577  ┆ 3.00291  ┆ 2.741072  ┆ 2.857609  │\n",
       "│ 0.481098   ┆ 0.039187  ┆ 30.921374 ┆ 9.356618  ┆ … ┆ 2.45041  ┆ 3.167865 ┆ 2.601609  ┆ 3.016665  │\n",
       "└────────────┴───────────┴───────────┴───────────┴───┴──────────┴──────────┴───────────┴───────────┘"
      ]
     },
     "execution_count": 5,
     "metadata": {},
     "output_type": "execute_result"
    }
   ],
   "source": [
    "df = data_table(MarketParameters(), InvestorParameters(), SqueezeParameters())\n",
    "df"
   ]
  },
  {
   "cell_type": "code",
   "execution_count": null,
   "id": "babc762a-ed53-4452-afc2-94b79c94f222",
   "metadata": {},
   "outputs": [],
   "source": [
    "30.921374\t9.3566"
   ]
  }
 ],
 "metadata": {
  "kernelspec": {
   "display_name": "Python 3 (ipykernel)",
   "language": "python",
   "name": "python3"
  },
  "language_info": {
   "codemirror_mode": {
    "name": "ipython",
    "version": 3
   },
   "file_extension": ".py",
   "mimetype": "text/x-python",
   "name": "python",
   "nbconvert_exporter": "python",
   "pygments_lexer": "ipython3",
   "version": "3.13.2"
  }
 },
 "nbformat": 4,
 "nbformat_minor": 5
}
