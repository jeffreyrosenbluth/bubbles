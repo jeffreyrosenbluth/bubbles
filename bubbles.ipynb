{
 "cells": [
  {
   "cell_type": "markdown",
   "id": "edae0b30-718a-4c83-9395-a8018e154f1b",
   "metadata": {},
   "source": [
    "# A Tale of Two Investor Types:\n",
    "## How the Interaction of Forward-looking and Backward-looking Investors Explains the Non-Random Walk of Asset Markets\n",
    "### Forward-looking = **Long Term Investors**\n",
    "### Backward-looking = **Extrapolators**"
   ]
  },
  {
   "cell_type": "code",
   "execution_count": null,
   "id": "008c24d6-8784-495a-85fa-6bb09e3c860d",
   "metadata": {},
   "outputs": [],
   "source": [
    "%load_ext autoreload\n",
    "%autoreload 2\n",
    "\n",
    "import polars as pl\n",
    "import altair as alt\n",
    "from bubbles.agents import *\n",
    "from bubbles.core import *\n",
    "from bubbles.dz import dz\n",
    "from itables import (init_notebook_mode, show)\n",
    "\n",
    "init_notebook_mode(all_interactive=True)\n",
    "alt.theme.enable('latimes')"
   ]
  },
  {
   "cell_type": "markdown",
   "id": "b318c6a4-9b4c-4c11-a2cb-21e40d31b2e6",
   "metadata": {},
   "source": [
    "## Model Parameters"
   ]
  },
  {
   "cell_type": "code",
   "execution_count": null,
   "id": "dbdf9f86-217a-4de4-a90b-b3004350d9db",
   "metadata": {},
   "outputs": [],
   "source": [
    "mp = Market(seed=0) #1337194922\n",
    "\n",
    "extrapolator = Extrapolator.new()\n",
    "long_term_investor = LongTermInvestor.new()\n",
    "investors = [extrapolator, long_term_investor]\n",
    "\n",
    "print(mp)\n",
    "print(extrapolator)\n",
    "print(long_term_investor)"
   ]
  },
  {
   "cell_type": "code",
   "execution_count": null,
   "id": "0c08ce50-cd56-4a3c-90b4-4a5b54511851",
   "metadata": {
    "scrolled": true
   },
   "outputs": [],
   "source": [
    "df = data_table(mp, investors)\n",
    "df = df.select([\n",
    "    pl.col('^.*$').cast(pl.Float64).round(6)\n",
    "])\n",
    "show(df[12 * mp.history_length + 1:], maxBytes=0)\n",
    "    "
   ]
  },
  {
   "cell_type": "markdown",
   "id": "138a0f6d-23e4-4851-b213-486b82167c43",
   "metadata": {},
   "source": [
    "### Percent of ending wealth held by long term inverstors"
   ]
  },
  {
   "cell_type": "code",
   "execution_count": null,
   "id": "5af5ba72-ac10-437c-944f-455221b1edba",
   "metadata": {},
   "outputs": [],
   "source": [
    "wealth_y = df.get_column(\"Wealth y\")[-1]\n",
    "wealth_x = df.get_column(\"Wealth x\")[-1]\n",
    "wealth_y / (wealth_y +  wealth_x)"
   ]
  },
  {
   "cell_type": "code",
   "execution_count": null,
   "id": "4afbd17a-887f-479f-924f-ef9488768cee",
   "metadata": {
    "jupyter": {
     "source_hidden": true
    }
   },
   "outputs": [],
   "source": [
    "chart_data = df.select([\n",
    "    'Month',\n",
    "    pl.col('Price Idx').alias('Price Index'),\n",
    "    pl.col('Fair Value')\n",
    "]).unpivot(\n",
    "    index=['Month'],\n",
    "    on=['Price Index', 'Fair Value'],\n",
    "    variable_name='Metric',\n",
    "    value_name='Value'\n",
    ")\n",
    "\n",
    "alt.Chart(chart_data).mark_line().encode(\n",
    "    x='Month',\n",
    "    y='Value',\n",
    "    color=alt.Color('Metric:N', scale=alt.Scale(\n",
    "        domain=['Price Index', 'Fair Value'],\n",
    "    ))\n",
    ").properties(\n",
    "    width=700,\n",
    "    height=500,\n",
    "    title=\"Stock Market Price Index vs. Fair Value\"\n",
    ")"
   ]
  },
  {
   "cell_type": "code",
   "execution_count": null,
   "id": "d8eb1137-0181-4c3d-915a-3ab65daf619c",
   "metadata": {
    "jupyter": {
     "source_hidden": true
    }
   },
   "outputs": [],
   "source": [
    "(df.plot.line(x='Month', y='Premium')\n",
    "   .encode(\n",
    "       color=alt.datum('Premium')  # This creates a legend entry for Premium\n",
    "   )\n",
    "   .properties(width=700, height=500, title=\"Premium / Discount\")\n",
    ")"
   ]
  },
  {
   "cell_type": "code",
   "execution_count": null,
   "id": "e65c2c5d-e805-41ad-b8fe-2ec81e28fb11",
   "metadata": {},
   "outputs": [],
   "source": []
  }
 ],
 "metadata": {
  "kernelspec": {
   "display_name": "Python 3 (ipykernel)",
   "language": "python",
   "name": "python3"
  },
  "language_info": {
   "codemirror_mode": {
    "name": "ipython",
    "version": 3
   },
   "file_extension": ".py",
   "mimetype": "text/x-python",
   "name": "python",
   "nbconvert_exporter": "python",
   "pygments_lexer": "ipython3",
   "version": "3.13.2"
  }
 },
 "nbformat": 4,
 "nbformat_minor": 5
}
