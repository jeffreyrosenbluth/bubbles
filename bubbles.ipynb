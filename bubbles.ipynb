{
 "cells": [
  {
   "cell_type": "code",
   "execution_count": 1,
   "id": "008c24d6-8784-495a-85fa-6bb09e3c860d",
   "metadata": {},
   "outputs": [],
   "source": [
    "%load_ext autoreload\n",
    "%autoreload 2\n",
    "\n",
    "from bubbles.agents import *\n",
    "from bubbles.dz import dz"
   ]
  },
  {
   "cell_type": "code",
   "execution_count": 17,
   "id": "0c08ce50-cd56-4a3c-90b4-4a5b54511851",
   "metadata": {},
   "outputs": [
    {
     "data": {
      "text/html": [
       "<div><style>\n",
       ".dataframe > thead > tr,\n",
       ".dataframe > tbody > tr {\n",
       "  text-align: right;\n",
       "  white-space: pre-wrap;\n",
       "}\n",
       "</style>\n",
       "<small>shape: (601, 7)</small><table border=\"1\" class=\"dataframe\"><thead><tr><th>monthly_earnings</th><th>stock_price_idx</th><th>annualized_earnings</th><th>stock_total_return_idx</th><th>total_cash</th><th>n_year_annualized_return</th><th>expected_return_y</th></tr><tr><td>f64</td><td>f64</td><td>f64</td><td>f64</td><td>f64</td><td>f64</td><td>f64</td></tr></thead><tbody><tr><td>0.003605</td><td>1.1031</td><td>0.044045</td><td>1.216634</td><td>1.018658</td><td>NaN</td><td>0.039928</td></tr><tr><td>0.003533</td><td>1.104866</td><td>0.043146</td><td>1.22053</td><td>1.020425</td><td>0.039996</td><td>0.039051</td></tr><tr><td>0.003578</td><td>1.106655</td><td>0.043714</td><td>1.224483</td><td>1.022214</td><td>0.039972</td><td>0.039501</td></tr><tr><td>0.003612</td><td>1.108461</td><td>0.044133</td><td>1.22848</td><td>1.02402</td><td>0.03996</td><td>0.039815</td></tr><tr><td>0.003678</td><td>1.1103</td><td>0.044953</td><td>1.232557</td><td>1.025859</td><td>0.039957</td><td>0.040488</td></tr><tr><td>&hellip;</td><td>&hellip;</td><td>&hellip;</td><td>&hellip;</td><td>&hellip;</td><td>&hellip;</td><td>&hellip;</td></tr><tr><td>0.108123</td><td>8.268549</td><td>1.395647</td><td>67.745282</td><td>8.184108</td><td>0.144213</td><td>0.16879</td></tr><tr><td>0.104677</td><td>8.320888</td><td>1.347385</td><td>68.602915</td><td>8.236446</td><td>0.144932</td><td>0.161928</td></tr><tr><td>0.104386</td><td>8.373081</td><td>1.342781</td><td>69.463544</td><td>8.288639</td><td>0.145446</td><td>0.160369</td></tr><tr><td>0.102821</td><td>8.424491</td><td>1.320688</td><td>70.316549</td><td>8.34005</td><td>0.145885</td><td>0.156768</td></tr><tr><td>NaN</td><td>1.0</td><td>NaN</td><td>1.0</td><td>NaN</td><td>0.146236</td><td>NaN</td></tr></tbody></table></div>"
      ],
      "text/plain": [
       "shape: (601, 7)\n",
       "┌──────────────┬──────────────┬─────────────┬─────────────┬────────────┬─────────────┬─────────────┐\n",
       "│ monthly_earn ┆ stock_price_ ┆ annualized_ ┆ stock_total ┆ total_cash ┆ n_year_annu ┆ expected_re │\n",
       "│ ings         ┆ idx          ┆ earnings    ┆ _return_idx ┆ ---        ┆ alized_retu ┆ turn_y      │\n",
       "│ ---          ┆ ---          ┆ ---         ┆ ---         ┆ f64        ┆ rn          ┆ ---         │\n",
       "│ f64          ┆ f64          ┆ f64         ┆ f64         ┆            ┆ ---         ┆ f64         │\n",
       "│              ┆              ┆             ┆             ┆            ┆ f64         ┆             │\n",
       "╞══════════════╪══════════════╪═════════════╪═════════════╪════════════╪═════════════╪═════════════╡\n",
       "│ 0.003605     ┆ 1.1031       ┆ 0.044045    ┆ 1.216634    ┆ 1.018658   ┆ NaN         ┆ 0.039928    │\n",
       "│ 0.003533     ┆ 1.104866     ┆ 0.043146    ┆ 1.22053     ┆ 1.020425   ┆ 0.039996    ┆ 0.039051    │\n",
       "│ 0.003578     ┆ 1.106655     ┆ 0.043714    ┆ 1.224483    ┆ 1.022214   ┆ 0.039972    ┆ 0.039501    │\n",
       "│ 0.003612     ┆ 1.108461     ┆ 0.044133    ┆ 1.22848     ┆ 1.02402    ┆ 0.03996     ┆ 0.039815    │\n",
       "│ 0.003678     ┆ 1.1103       ┆ 0.044953    ┆ 1.232557    ┆ 1.025859   ┆ 0.039957    ┆ 0.040488    │\n",
       "│ …            ┆ …            ┆ …           ┆ …           ┆ …          ┆ …           ┆ …           │\n",
       "│ 0.108123     ┆ 8.268549     ┆ 1.395647    ┆ 67.745282   ┆ 8.184108   ┆ 0.144213    ┆ 0.16879     │\n",
       "│ 0.104677     ┆ 8.320888     ┆ 1.347385    ┆ 68.602915   ┆ 8.236446   ┆ 0.144932    ┆ 0.161928    │\n",
       "│ 0.104386     ┆ 8.373081     ┆ 1.342781    ┆ 69.463544   ┆ 8.288639   ┆ 0.145446    ┆ 0.160369    │\n",
       "│ 0.102821     ┆ 8.424491     ┆ 1.320688    ┆ 70.316549   ┆ 8.34005    ┆ 0.145885    ┆ 0.156768    │\n",
       "│ NaN          ┆ 1.0          ┆ NaN         ┆ 1.0         ┆ NaN        ┆ 0.146236    ┆ NaN         │\n",
       "└──────────────┴──────────────┴─────────────┴─────────────┴────────────┴─────────────┴─────────────┘"
      ]
     },
     "execution_count": 17,
     "metadata": {},
     "output_type": "execute_result"
    }
   ],
   "source": [
    "me = data_table(660, 0.04, 0.5, 0.1, 5, Investors())\n",
    "me[60:]"
   ]
  },
  {
   "cell_type": "code",
   "execution_count": null,
   "id": "babc762a-ed53-4452-afc2-94b79c94f222",
   "metadata": {},
   "outputs": [],
   "source": []
  }
 ],
 "metadata": {
  "kernelspec": {
   "display_name": "Python 3 (ipykernel)",
   "language": "python",
   "name": "python3"
  },
  "language_info": {
   "codemirror_mode": {
    "name": "ipython",
    "version": 3
   },
   "file_extension": ".py",
   "mimetype": "text/x-python",
   "name": "python",
   "nbconvert_exporter": "python",
   "pygments_lexer": "ipython3",
   "version": "3.13.2"
  }
 },
 "nbformat": 4,
 "nbformat_minor": 5
}
